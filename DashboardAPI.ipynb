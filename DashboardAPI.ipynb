{
  "nbformat": 4,
  "nbformat_minor": 0,
  "metadata": {
    "colab": {
      "provenance": [],
      "authorship_tag": "ABX9TyPqS68AGSFKtt2EulUgNQ7w",
      "include_colab_link": true
    },
    "kernelspec": {
      "name": "python3",
      "display_name": "Python 3"
    },
    "language_info": {
      "name": "python"
    }
  },
  "cells": [
    {
      "cell_type": "markdown",
      "metadata": {
        "id": "view-in-github",
        "colab_type": "text"
      },
      "source": [
        "<a href=\"https://colab.research.google.com/github/effieklestz/SisenseRESTAPI/blob/main/DashboardAPI.ipynb\" target=\"_parent\"><img src=\"https://colab.research.google.com/assets/colab-badge.svg\" alt=\"Open In Colab\"/></a>"
      ]
    },
    {
      "cell_type": "code",
      "execution_count": null,
      "metadata": {
        "id": "ATwNYu_nzGHY"
      },
      "outputs": [],
      "source": [
        "import requests\n",
        "import json\n",
        "import pandas as pd\n",
        "import numpy as np\n",
        "\n",
        "\n",
        "username = 'username'\n",
        "password = 'PW'\n",
        "server_name = 'URL'\n",
        "\n",
        "login_data =    {  'username' : username,\n",
        "                        'password' : password\n",
        "                    }\n",
        "\n",
        "login_url = server_name + '/api/v1/authentication/login'\n",
        "login_res = requests.post(url=login_url, data=login_data).json()\n",
        "\n",
        "access_token = login_res.get('access_token')\n",
        "if len(access_token) > 0:\n",
        "    print('login succesful.')\n",
        "\n",
        "api_header = {'Authorization': 'Bearer ' + access_token}\n",
        "\n",
        "urlSQL = server_name + '/api/v1/dashboards'\n",
        "\n",
        "# Users Dashboard Data\n",
        "response = requests.get(urlSQL, headers=api_header)\n",
        "if response.status_code == 404:\n",
        "    print(\"Error: API endpoint not found.\")\n",
        "\n",
        "response_data = json.loads(response.text)\n",
        "print(response_data)\n",
        "\n",
        "\n",
        "usage_list = ['title', 'oid','_id','created']\n",
        "\n",
        "usage_data=[]\n",
        "\n",
        "for i in range(len(response_data)):\n",
        "    dashboard_info = [response_data[i].get(usage) for usage in usage_list]\n",
        "    usage_data.append(dashboard_info)\n",
        "\n",
        "df = pd.DataFrame(usage_data, columns=usage_list)\n"
      ]
    }
  ]
}