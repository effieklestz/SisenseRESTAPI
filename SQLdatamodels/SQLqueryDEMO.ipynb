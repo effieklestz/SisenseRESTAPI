{
 "cells": [
  {
   "cell_type": "code",
   "execution_count": null,
   "metadata": {},
   "outputs": [],
   "source": [
    "import requests\n",
    "import json\n",
    "\n",
    "username = 'USERNAME'\n",
    "password = 'PASSWORD'\n",
    "server_name = 'URL'\n",
    "\n",
    "login_data =    {  'username' : username,\n",
    "                        'password' : password\n",
    "                    }\n",
    "\n",
    "login_url = server_name + '/api/v1/authentication/login'\n",
    "login_res = requests.post(url=login_url, data=login_data).json()\n",
    "\n",
    "access_token = login_res.get('access_token')\n",
    "if len(access_token) > 0:\n",
    "    print('login succesful.')\n",
    "    \n",
    "api_header = {'Authorization': 'Bearer ' + access_token}\n",
    "\n",
    "url = server_name + '/api/v1/users?'\n",
    "\n",
    "urlSQL = server_name + '/api/datasources/{ElasticubeName}/sql?query='\n",
    "\n",
    "response = requests.get(urlSQL, headers=api_header)\n",
    "if response.status_code == 404:\n",
    "    print(\"Error: API endpoint not found.\")\n",
    "\n",
    "\n",
    "print(json.loads(response.text))"
   ]
  }
 ],
 "metadata": {
  "language_info": {
   "name": "python"
  }
 },
 "nbformat": 4,
 "nbformat_minor": 2
}
